{
 "cells": [
  {
   "cell_type": "markdown",
   "metadata": {
    "deletable": false,
    "editable": false,
    "nbgrader": {
     "cell_type": "markdown",
     "checksum": "32e45eb6bcc8c7d1db2d846fc120d426",
     "grade": false,
     "grade_id": "cell-e212d9fd41f03b18",
     "locked": true,
     "schema_version": 3,
     "solution": false,
     "task": false
    }
   },
   "source": [
    "# Week 4 Assignment 2"
   ]
  },
  {
   "cell_type": "code",
   "execution_count": 1,
   "metadata": {
    "deletable": false,
    "editable": false,
    "nbgrader": {
     "cell_type": "code",
     "checksum": "069f66d81507ea520c1fe5098352b437",
     "grade": false,
     "grade_id": "cell-ea989c7a4eb25b70",
     "locked": true,
     "schema_version": 3,
     "solution": false,
     "task": false
    }
   },
   "outputs": [],
   "source": [
    "import pandas as pd\n",
    "import matplotlib.pyplot as plt\n",
    "import numpy as np\n",
    "from scipy.sparse import coo_matrix, csr_matrix\n",
    "from sklearn.decomposition import NMF\n"
   ]
  },
  {
   "cell_type": "code",
   "execution_count": 2,
   "metadata": {
    "deletable": false,
    "editable": false,
    "nbgrader": {
     "cell_type": "code",
     "checksum": "cdeafa5886528c497f33ffde32d9b7bb",
     "grade": false,
     "grade_id": "cell-476e59a408937946",
     "locked": true,
     "schema_version": 3,
     "solution": false,
     "task": false
    }
   },
   "outputs": [],
   "source": [
    "MV_users = pd.read_csv('data/users.csv')\n",
    "MV_movies = pd.read_csv('data/movies.csv')\n",
    "train = pd.read_csv('data/train.csv')\n",
    "test = pd.read_csv('data/test.csv')"
   ]
  },
  {
   "cell_type": "code",
   "execution_count": 3,
   "metadata": {
    "deletable": false,
    "editable": false,
    "nbgrader": {
     "cell_type": "code",
     "checksum": "a0ddf339d993a9dfb1046fa9c762eb28",
     "grade": false,
     "grade_id": "cell-9dea5c452642998d",
     "locked": true,
     "schema_version": 3,
     "solution": false,
     "task": false
    }
   },
   "outputs": [],
   "source": [
    "from collections import namedtuple\n",
    "Data = namedtuple('Data', ['users','movies','train','test'])\n",
    "data = Data(MV_users, MV_movies, train, test)"
   ]
  },
  {
   "cell_type": "markdown",
   "metadata": {
    "deletable": false,
    "editable": false,
    "nbgrader": {
     "cell_type": "markdown",
     "checksum": "58249f70f1dc6b13ee151e49b58c073b",
     "grade": false,
     "grade_id": "cell-ee6ea083a19e98e4",
     "locked": true,
     "schema_version": 3,
     "solution": false,
     "task": false
    }
   },
   "source": [
    "Modify the code from Module 3 and add NMF component to the class"
   ]
  },
  {
   "cell_type": "code",
   "execution_count": 4,
   "metadata": {},
   "outputs": [],
   "source": [
    "\n",
    "class RecSys():\n",
    "    def __init__(self, data):\n",
    "        self.data = data\n",
    "        self.allusers = list(self.data.users['uID'])\n",
    "        self.allmovies = list(self.data.movies['mID'])\n",
    "        self.genres = list(self.data.movies.columns.drop(['mID', 'title', 'year']))\n",
    "        self.mid2idx = dict(zip(self.data.movies.mID, list(range(len(self.data.movies)))))\n",
    "        self.uid2idx = dict(zip(self.data.users.uID, list(range(len(self.data.users)))))\n",
    "        self.Mr = self.rating_matrix()\n",
    "        self.Mm = None\n",
    "        self.sim = np.zeros((len(self.allmovies), len(self.allmovies)))\n",
    "        self.W, self.H = self.apply_nmf()\n",
    "\n",
    "    def rating_matrix(self):\n",
    "        ind_movie = [self.mid2idx[x] for x in self.data.train.mID]\n",
    "        ind_user = [self.uid2idx[x] for x in self.data.train.uID]\n",
    "        rating_train = list(self.data.train.rating)\n",
    "\n",
    "        return np.array(coo_matrix((rating_train, (ind_user, ind_movie)), shape=(len(self.allusers), len(self.allmovies))).toarray())\n",
    "\n",
    "    def apply_nmf(self, n_components=5):\n",
    "        \"\"\"\n",
    "        Applies NMF to the Mr rating matrix and returns the user and movie feature matrices.\n",
    "        \"\"\"\n",
    "        nmf_model = NMF(n_components=n_components, init='random', random_state=0)\n",
    "        W = nmf_model.fit_transform(self.Mr)\n",
    "        H = nmf_model.components_\n",
    "        return W, H\n",
    "\n",
    "    def predict_from_nmf(self, uid, mid):\n",
    "        \"\"\"\n",
    "        Predict a user rating on a movie given userID and movieID using NMF.\n",
    "        \"\"\"\n",
    "        if uid in self.uid2idx and mid in self.mid2idx:\n",
    "            user_idx = self.uid2idx[uid]\n",
    "            movie_idx = self.mid2idx[mid]\n",
    "            predicted_rating = np.dot(self.W[user_idx, :], self.H[:, movie_idx])\n",
    "            return predicted_rating\n",
    "        else:\n",
    "            return 3\n",
    "\n",
    "    def predict_everything_to_3(self):\n",
    "        \"\"\"\n",
    "        Predict everything to 3 for the test data\n",
    "        \"\"\"\n",
    "\n",
    "        return np.full(len(self.data.test), 3)\n",
    "\n",
    "    def predict_to_user_average(self):\n",
    "        \"\"\"\n",
    "        Predict to average rating for the user.\n",
    "        Returns numpy array of shape (#users,)\n",
    "        \"\"\"\n",
    "        user_avg_ratings = {user: self.data.train[self.data.train.uID == user].rating.mean() for user in self.allusers}\n",
    "        predictions = np.array([user_avg_ratings.get(uid, 0) for uid in self.data.test.uID])\n",
    "        return predictions\n",
    "\n",
    "    def predict_from_sim(self,uid,mid):\n",
    "        \"\"\"\n",
    "        Predict a user rating on a movie given userID and movieID\n",
    "        \"\"\"\n",
    "        user_idx = self.uid2idx[uid]\n",
    "        movie_idx = self.mid2idx[mid]\n",
    "\n",
    "        rated_movies = self.Mr[user_idx, :] != 0\n",
    "        sim_scores = self.sim[movie_idx, rated_movies]\n",
    "        ratings = self.Mr[user_idx, rated_movies]\n",
    "        predicted_rating = np.dot(ratings, sim_scores) / sim_scores.sum()\n",
    "\n",
    "        return predicted_rating\n",
    "\n",
    "    def predict(self):\n",
    "        \"\"\"\n",
    "        Predict ratings in the test data. Returns predicted rating in a numpy array of size (# of rows in testdata,)\n",
    "        \"\"\"\n",
    "        # your code here\n",
    "        predictions = []\n",
    "        for index, row in self.data.test.iterrows():\n",
    "            uid = row['uID']\n",
    "            mid = row['mID']\n",
    "            predicted_rating = self.predict_from_sim(uid, mid)\n",
    "            predictions.append(predicted_rating)\n",
    "\n",
    "        return np.array(predictions)\n",
    "\n",
    "    def predict_nmf(self):\n",
    "        predictions = []\n",
    "        for index, row in self.data.test.iterrows():\n",
    "            uid = row['uID']\n",
    "            mid = row['mID']\n",
    "            predicted_rating = self.predict_from_nmf(uid, mid)\n",
    "            predictions.append(predicted_rating)\n",
    "\n",
    "        return np.array(predictions)\n",
    "\n",
    "    def rmse(self,yp):\n",
    "        yp[np.isnan(yp)]=3 #In case there is nan values in prediction, it will impute to 3.\n",
    "        yt=np.array(self.data.test.rating)\n",
    "        return np.sqrt(((yt-yp)**2).mean())\n",
    "\n",
    "\n",
    "class ContentBased(RecSys):\n",
    "    def __init__(self,data):\n",
    "        super().__init__(data)\n",
    "        self.data=data\n",
    "        self.Mm = self.calc_movie_feature_matrix()\n",
    "\n",
    "    def calc_movie_feature_matrix(self):\n",
    "        \"\"\"\n",
    "        Create movie feature matrix in a numpy array of shape (#allmovies, #genres)\n",
    "        \"\"\"\n",
    "        Mm = np.zeros((len(self.allmovies), len(self.genres)))\n",
    "        for idx, movie in self.data.movies.iterrows():\n",
    "            for genre in self.genres:\n",
    "                if genre in movie and movie[genre] == 1:\n",
    "                    Mm[self.mid2idx[movie['mID']], self.genres.index(genre)] = 1\n",
    "        return Mm\n",
    "\n",
    "    def calc_item_item_similarity(self):\n",
    "        \"\"\"\n",
    "        Create item-item similarity using Jaccard similarity\n",
    "        \"\"\"\n",
    "        Mm_sparse = csr_matrix(self.Mm)\n",
    "        num_movies = len(self.allmovies)\n",
    "\n",
    "        Mm_dense = Mm_sparse.toarray()\n",
    "\n",
    "        for i in range(num_movies):\n",
    "            col_i = Mm_dense[i, :]\n",
    "            for j in range(i + 1, num_movies):\n",
    "                col_j = Mm_dense[j, :]\n",
    "\n",
    "                intersection = np.logical_and(col_i, col_j).sum()\n",
    "                union = np.logical_or(col_i, col_j).sum()\n",
    "                jaccard_similarity = intersection / union if union != 0 else 0\n",
    "\n",
    "                self.sim[i, j] = self.sim[j, i] = jaccard_similarity\n",
    "\n",
    "        np.fill_diagonal(self.sim, 1)\n",
    "        return self.sim"
   ]
  },
  {
   "cell_type": "markdown",
   "metadata": {
    "deletable": false,
    "editable": false,
    "nbgrader": {
     "cell_type": "markdown",
     "checksum": "7da30c84f0fadd1ae2193af99888f526",
     "grade": false,
     "grade_id": "cell-5efe89bc06f7e6c5",
     "locked": true,
     "schema_version": 3,
     "solution": false,
     "task": false
    }
   },
   "source": [
    "# Q1. Use non-negative matrix factorization to predict rating"
   ]
  },
  {
   "cell_type": "code",
   "execution_count": 5,
   "metadata": {
    "deletable": false,
    "editable": false,
    "nbgrader": {
     "cell_type": "code",
     "checksum": "9f4e132a376edada87d141fbcbabcdf9",
     "grade": false,
     "grade_id": "cell-0fd9bcbcf2e542fd",
     "locked": true,
     "schema_version": 3,
     "solution": false,
     "task": false
    }
   },
   "outputs": [],
   "source": [
    "# Load data\n",
    "cb = ContentBased(data)\n",
    "\n",
    "# Save RMSE\n",
    "rmse_values = []"
   ]
  },
  {
   "cell_type": "code",
   "execution_count": 6,
   "metadata": {},
   "outputs": [
    {
     "name": "stdout",
     "output_type": "stream",
     "text": [
      "1.2585510334053043\n"
     ]
    }
   ],
   "source": [
    "# Perform baseline predictions\n",
    "yp = cb.predict_everything_to_3()\n",
    "rmse_values.append(cb.rmse(yp))\n",
    "print(cb.rmse(yp))"
   ]
  },
  {
   "cell_type": "code",
   "execution_count": 7,
   "metadata": {},
   "outputs": [
    {
     "name": "stdout",
     "output_type": "stream",
     "text": [
      "1.0352910334228647\n"
     ]
    }
   ],
   "source": [
    "# Perform baseline predictions using user average\n",
    "yp = cb.predict_to_user_average()\n",
    "rmse_values.append(cb.rmse(yp))\n",
    "print(cb.rmse(yp))"
   ]
  },
  {
   "cell_type": "code",
   "execution_count": 8,
   "metadata": {},
   "outputs": [
    {
     "name": "stderr",
     "output_type": "stream",
     "text": [
      "/tmp/ipykernel_8469/2559286881.py:68: RuntimeWarning: invalid value encountered in scalar divide\n",
      "  predicted_rating = np.dot(ratings, sim_scores) / sim_scores.sum()\n"
     ]
    },
    {
     "name": "stdout",
     "output_type": "stream",
     "text": [
      "1.0128116783754684\n"
     ]
    }
   ],
   "source": [
    "# Perform predictions using content based method\n",
    "cb.calc_item_item_similarity()\n",
    "yp = cb.predict()\n",
    "rmse_values.append(cb.rmse(yp))\n",
    "print(cb.rmse(yp))"
   ]
  },
  {
   "cell_type": "code",
   "execution_count": 9,
   "metadata": {},
   "outputs": [
    {
     "name": "stdout",
     "output_type": "stream",
     "text": [
      "2.991424555920139\n"
     ]
    }
   ],
   "source": [
    "# Predictions using NMF model\n",
    "yp = cb.predict_nmf()\n",
    "rmse_values.append(cb.rmse(yp))\n",
    "print(cb.rmse(yp))"
   ]
  },
  {
   "cell_type": "markdown",
   "metadata": {},
   "source": [
    "RMSE (Root Mean Square Error) measures the average magnitude of the errors in a set of predictions, without considering their direction.   \n",
    "It's the square root of the average of squared differences between prediction and actual observation. A lower RMSE value is typically better, indicating that the predictions are closer to the actual ratings.\n",
    "\n",
    "Here is the table for RMSE\n",
    "\n",
    "|Method|RMSE|\n",
    "|:----|:--------:|\n",
    "|Baseline, $Y_p$=3| 1.2585510334053043|\n",
    "|Baseline, $Y_p=\\mu_u$| 1.0352910334228647|\n",
    "|Content based, item-item| 1.0128116783754684|\n",
    "|NMF, n_components=5| 2.991424555920139|"
   ]
  },
  {
   "cell_type": "code",
   "execution_count": 10,
   "metadata": {},
   "outputs": [
    {
     "data": {
      "image/png": "[encoded data removed]",
      "text/plain": [
       "<Figure size 1000x600 with 1 Axes>"
      ]
     },
     "metadata": {},
     "output_type": "display_data"
    }
   ],
   "source": [
    "methods = ['Baseline, $Y_p$=3', 'Baseline, $Y_p=\\\\mu_u$', 'Content based, item-item', 'NMF, n_components=5']\n",
    "\n",
    "# Plotting\n",
    "plt.figure(figsize=(10, 6))\n",
    "plt.barh(methods, rmse_values, color='skyblue')\n",
    "plt.xlabel('RMSE')\n",
    "plt.title('RMSE of Different Methods')\n",
    "plt.tight_layout()  # Adjust layout to make room for the rotated x-axis labels\n",
    "\n",
    "plt.show()\n"
   ]
  },
  {
   "cell_type": "markdown",
   "metadata": {},
   "source": [
    "This plot here shows that the NMF model has worse performance than other method."
   ]
  },
  {
   "cell_type": "markdown",
   "metadata": {},
   "source": [
    "## Q2 \n",
    "\n",
    "Discuss the results and why they did not work well compared to simple baseline or similarity-based methods we’ve done in Module 3. Can you suggest a way(s) to fix it? "
   ]
  },
  {
   "cell_type": "markdown",
   "metadata": {},
   "source": [
    "1. NMF may struggle with very sparse matrices, common in recommendation system datasets, where most users rate only a small fraction of items.  \n",
    "Therefore, we can incorporate additional information (e.g., user or item metadata) to supplement the ratings matrix, potentially using hybrid recommendation techniques that combine content-based and collaborative filtering methods.\n",
    "\n",
    "2. This NMF model is not fine tuned. Different hyperparameter or initialization method would have different results.  \n",
    "So, we can do more hyperparameter tuning for better outcomes.\n",
    "\n",
    "3. NMF model may introduce more overfitting.  \n",
    "regularization in the NMF model to penalize complexity and encourage the model to learn more generalized patterns."
   ]
  },
  {
   "cell_type": "markdown",
   "metadata": {},
   "source": []
  }
 ],
 "metadata": {
  "kernelspec": {
   "display_name": "Python 3",
   "language": "python",
   "name": "python3"
  },
  "language_info": {
   "codemirror_mode": {
    "name": "ipython",
    "version": 3
   },
   "file_extension": ".py",
   "mimetype": "text/x-python",
   "name": "python",
   "nbconvert_exporter": "python",
   "pygments_lexer": "ipython3",
   "version": "3.12.2"
  }
 },
 "nbformat": 4,
 "nbformat_minor": 4
}
